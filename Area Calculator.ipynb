{
 "cells": [
  {
   "cell_type": "code",
   "execution_count": null,
   "metadata": {},
   "outputs": [],
   "source": [
    "Which shape would you like to calculate the area for? Please enter the option number-\n",
    "1. Square\n",
    "2. Rectangle\n",
    "3. Triangle\n",
    "4. Circle\n",
    "Enter Option: _"
   ]
  },
  {
   "cell_type": "code",
   "execution_count": null,
   "metadata": {},
   "outputs": [],
   "source": [
    "def square(side):\n",
    "    sq_area = side**2\n",
    "    return sq_area\n",
    "\n",
    "def rectangle(lside,bside):\n",
    "    rect_area = lside * bside\n",
    "    return rect_area\n",
    "\n",
    "def triangle(base,height):\n",
    "    tri_area = (base * height) / 2\n",
    "    return tri_area\n",
    "\n",
    "def circle(radius):\n",
    "    pi = 3.14\n",
    "    cir_area = pi * radius ** 2\n",
    "    return cir_area\n",
    "\n",
    "print('which shape would you like to calculate area for? Please enter option number:')\n",
    "print('1. Square')\n",
    "print('2. Rectangle')\n",
    "print('3. Triangle')\n",
    "print('4. Circle')\n",
    "\n",
    "while True:\n",
    "    choice = input('Enter Choice: 1/2/3/4: ')\n",
    "    \n",
    "    if choice in ('1','2','3','4'):\n",
    "        \n",
    "        if choice == '1':\n",
    "            try:\n",
    "                side = float(input('Enter Side: '))\n",
    "                print('Area of square is: ',square(side))\n",
    "            except ValueError:\n",
    "                print('Invaild Input, Please input a number: ')\n",
    "        \n",
    "        elif choice == '2':\n",
    "            try:   \n",
    "                lside = float(input('Enter Lenght: '))\n",
    "                bside = float(input('Enter Breath: '))\n",
    "                print('Area of Rectangle is: ',rectangle(lside,bside))\n",
    "            except ValueError:\n",
    "                print('Invaild Input, Please input a number: ')\n",
    "        \n",
    "        elif choice == '3':\n",
    "            try:    \n",
    "                base = float(input('Enter Base: '))\n",
    "                height = float(input('Enter Height: '))\n",
    "                print ('Area of Triangle is: ',triangle(base,height))\n",
    "            except ValueError:\n",
    "                print('Invaild Input, Please input a number: ')\n",
    "            \n",
    "        elif choice =='4':\n",
    "            try:  \n",
    "                radius = float(input('Enter Radius: '))\n",
    "                print ('Area of circle is: ',circle(radius))\n",
    "            except ValueError:\n",
    "                print('Invaild Input, Please input a number: ')\n",
    "            \n",
    "        break\n",
    "        \n",
    "    else:\n",
    "        print('Invalid Choice')"
   ]
  }
 ],
 "metadata": {
  "kernelspec": {
   "display_name": "Python 3",
   "language": "python",
   "name": "python3"
  },
  "language_info": {
   "codemirror_mode": {
    "name": "ipython",
    "version": 3
   },
   "file_extension": ".py",
   "mimetype": "text/x-python",
   "name": "python",
   "nbconvert_exporter": "python",
   "pygments_lexer": "ipython3",
   "version": "3.8.3"
  }
 },
 "nbformat": 4,
 "nbformat_minor": 4
}
