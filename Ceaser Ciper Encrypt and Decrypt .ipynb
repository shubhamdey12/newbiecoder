{
 "cells": [
  {
   "cell_type": "code",
   "execution_count": null,
   "metadata": {},
   "outputs": [],
   "source": [
    "def encrypt(string, shift):\n",
    "    cipher = ''\n",
    "    for char in string: \n",
    "        \n",
    "        if not char.isalpha():\n",
    "            cipher = cipher + char\n",
    "        elif  char.isupper():\n",
    "            cipher = cipher + chr((ord(char) + shift - 65) % 26 + 65)\n",
    "        else:\n",
    "            cipher = cipher + chr((ord(char) + shift - 97) % 26 + 97)\n",
    "  \n",
    "    return cipher\n",
    "\n",
    "def decrypt(string, shift):\n",
    "    cipher = ''\n",
    "    for char in string: \n",
    "        if not char.isalpha():\n",
    "            cipher = cipher + char\n",
    "        elif  char.isupper():\n",
    "            cipher = cipher + chr((ord(char) - shift - 65) % 26 + 65)\n",
    "\n",
    "        else:\n",
    "            cipher = cipher + chr((ord(char) - shift - 97) % 26 + 97)\n",
    "  \n",
    "    return cipher\n",
    "\n",
    "print(\"Select operation.\")\n",
    "print(\"1.Encryption\")\n",
    "print(\"2.Decryption\")\n",
    "\n",
    "while True:\n",
    "    choice = input('Enter Choice: 1/2: ')\n",
    "\n",
    "    if choice in ('1','2'):\n",
    "        text = input(\"Enter text: \")\n",
    "        s = int(input('Enter key: '))\n",
    "\n",
    "        if choice == '1':\n",
    "            encrypted = encrypt(text, s)\n",
    "            print('Encrypted:', encrypted)\n",
    "    \n",
    "        elif choice == '2':\n",
    "            decrypted = decrypt(text, s)\n",
    "            print('Decrypted:', decrypted)\n",
    "        break\n",
    "    else:\n",
    "        print('Invalid input')"
   ]
  }
 ],
 "metadata": {
  "kernelspec": {
   "display_name": "Python 3",
   "language": "python",
   "name": "python3"
  },
  "language_info": {
   "codemirror_mode": {
    "name": "ipython",
    "version": 3
   },
   "file_extension": ".py",
   "mimetype": "text/x-python",
   "name": "python",
   "nbconvert_exporter": "python",
   "pygments_lexer": "ipython3",
   "version": "3.8.3"
  }
 },
 "nbformat": 4,
 "nbformat_minor": 4
}
